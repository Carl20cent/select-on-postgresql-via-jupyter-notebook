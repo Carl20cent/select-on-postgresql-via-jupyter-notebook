{
 "cells": [
  {
   "cell_type": "markdown",
   "id": "partial-accent",
   "metadata": {
    "papermill": {},
    "tags": []
   },
   "source": [
    "# Interroger une base de données PostgreSQL avec Python via ce Jupyter Notebook\n",
    "Ce document est un **Jupyter Notebook** dans lequel on peut exécuter **des instructions Python** et donc qu'on peut utiliser pour **interroger une base PostgreSQL**. <br>\n",
    "Pour exécuter ce Jupyter Notebook, nous utiliserons une plateforme comme **Naas.ai** ou **Google Colab**, mais il serait tout à fait possible de le faire tourner sur votre machine en local *(en installant par exemple la distribution Anaconda)*.<br><br>\n",
    "Pour cet exercice on utilisera sur une base d'entrainement **NetSerieFlix** dont le schéma relationnel est ci-dessous."
   ]
  },
  {
   "cell_type": "markdown",
   "id": "1e254251-0131-436c-9daf-aca2537d45a8",
   "metadata": {},
   "source": [
    "--------"
   ]
  },
  {
   "cell_type": "markdown",
   "id": "input_cell",
   "metadata": {
    "papermill": {},
    "tags": []
   },
   "source": [
    "### Installation des librairies et connexion à la base NetSerieFlix"
   ]
  },
  {
   "cell_type": "code",
   "execution_count": null,
   "id": "fd9b7824-8eac-4991-b0be-1d9faced1ca9",
   "metadata": {
    "tags": []
   },
   "outputs": [],
   "source": [
    "# Installation des librairies Python nécessaires\n",
    "# (À ne faire qu'une seule fois)\n",
    "!pip install --user ipython-sql # (https://github.com/catherinedevlin/ipython-sql)\n",
    "!pip install --user sqlalchemy # (https://www.sqlalchemy.org/)\n",
    "\n",
    "# Bien attendre ce message de fin d'installation (celle-ci pouvant prendre jusqu'à 1 ou 2 min)\n",
    "print(\"Fin de l'installation des librairies !\")"
   ]
  },
  {
   "cell_type": "code",
   "execution_count": null,
   "id": "4a8c9c2a-e94a-49ac-952d-28f6a88502e6",
   "metadata": {
    "papermill": {},
    "tags": []
   },
   "outputs": [],
   "source": [
    "# Chargement de l'extension permettant d'interroger facilement une BDD PostgreSQL\n",
    "%load_ext sql\n",
    "\n",
    "# Connexion à la BDD cavicharmilles_netserieflix\n",
    "user = \"cavicharmilles_lecture\"\n",
    "password = \"...\" # => TODO Indiquer le mot de passe fourni en cours\n",
    "server = \"postgresql-cavicharmilles.alwaysdata.net\"\n",
    "database = \"cavicharmilles_netserieflix\"\n",
    "connection_string = \"postgresql://{user}:{password}@{server}/{database}\".format(user=user, password=password, server=server, database=database)\n",
    "%sql $connection_string\n",
    "\n",
    "print(\"Si on arrive ici, c'est que la connexion doit être opérationnelle !\")"
   ]
  },
  {
   "cell_type": "markdown",
   "id": "b185319d-15fa-43c7-b9ee-363334e7bb77",
   "metadata": {},
   "source": [
    "--------"
   ]
  },
  {
   "cell_type": "markdown",
   "id": "4b026237-9406-4585-877f-8991c335be9d",
   "metadata": {},
   "source": [
    "### Schéma relationnel de la base NetSerieFlix"
   ]
  },
  {
   "cell_type": "markdown",
   "id": "2e16530e-8b2b-43ab-8129-2048b3bcf8d3",
   "metadata": {},
   "source": [
    "<pre style=\"font-size:1.2em; font-weight:500; line-height:1; color:DarkSlateBlue; margin:0;\">\n",
    "  serie (<u>id_serie</u>, nom_serie, note, synopsis) <br>\n",
    "  saison (<u>#id_serie, num_saison</u>, annee) <br>\n",
    "  episode (<u>#id_serie, #num_saison, num_ep</u>, nom_ep, duree_en_min) <br>\n",
    "  genre (<u>id_genre</u>, nom_genre) <br>\n",
    "  appartenir (<u>#id_serie, #id_genre</u>) <br>\n",
    "  favoris (<u>nom_abonne, #id_serie</u>)\n",
    "</pre>"
   ]
  },
  {
   "cell_type": "markdown",
   "id": "42459738-ce40-459c-a560-5552b77fd2fe",
   "metadata": {},
   "source": [
    "--------"
   ]
  },
  {
   "cell_type": "markdown",
   "id": "3cf2dc11-b854-4546-be73-8d7f32232b7f",
   "metadata": {
    "papermill": {},
    "tags": []
   },
   "source": [
    "### Exemple : La liste de tous les épisodes de la série Black Mirror dans l'ordre"
   ]
  },
  {
   "cell_type": "code",
   "execution_count": null,
   "id": "rational-cleaning",
   "metadata": {
    "papermill": {},
    "tags": []
   },
   "outputs": [],
   "source": [
    "# Définition de la requête SQL\n",
    "queryExemple = '''\n",
    "    SELECT CONCAT('S0', num_saison, 'E0', num_ep) AS code_ep, e.*\n",
    "    FROM serie se, episode e\n",
    "    WHERE se.id_serie = e.id_serie\n",
    "    AND se.nom_serie = 'Black Mirror'\n",
    "    ORDER BY e.num_saison, e.num_ep\n",
    "'''\n",
    "\n",
    "# Exécution de la requête et affichage sous la forme d'un DataFrame (pour plus de lisibilité)\n",
    "resExemple = %sql $queryExemple\n",
    "dfExemple = resExemple.DataFrame()\n",
    "dfExemple"
   ]
  },
  {
   "cell_type": "code",
   "execution_count": null,
   "id": "d96a7a36-66c3-4f86-9d6c-157b8e69baa4",
   "metadata": {
    "tags": []
   },
   "outputs": [],
   "source": [
    "# BONUS : Affichage d'un graphique généré à partir des données récupérées\n",
    "\n",
    "# Utilisation de la bibliothèque graphique intégrée à Notebook\n",
    "%matplotlib inline\n",
    "\n",
    "# Traçage d'un graphique en barres des durées des épisodes\n",
    "dfExemple.plot(kind='bar', x='code_ep', y='duree_en_min', color='SlateBlue')\n",
    "# puis traçage d'un histogramme pour visualiser la fréquence des durées des épisodes\n",
    "dfExemple[['duree_en_min']].plot(kind='hist', bins=[30,40,50,60,70,80,90,100], rwidth=0.8)\n",
    "\n",
    "# Pour voir d'autres exemples de graphiques qui peuvent être générés\n",
    "# à partir d'un DataFrame de la librairie Pandas :\n",
    "#   https://queirozf.com/entries/pandas-dataframe-plot-examples-with-matplotlib-pyplot\n",
    "#   https://pandas.pydata.org/docs/user_guide/visualization.html"
   ]
  },
  {
   "cell_type": "markdown",
   "id": "f0550d75-3e3c-416a-8abb-e2a434de9ac6",
   "metadata": {},
   "source": [
    "------------"
   ]
  },
  {
   "cell_type": "markdown",
   "id": "cbe829d1-6c64-4bf6-bd9b-7caeed5042e3",
   "metadata": {},
   "source": [
    "### Exo1 : Les saisons (avec année de sortie) de la série Stranger Things"
   ]
  },
  {
   "cell_type": "code",
   "execution_count": null,
   "id": "fd360530",
   "metadata": {},
   "outputs": [],
   "source": [
    "# Définition de la requête SQL (à compléter)\n",
    "query1 = '''\n",
    "    SELECT * ...\n",
    "'''\n",
    "\n",
    "# Exécution de la requête et affichage sous la forme d'un DataFrame\n",
    "res1 = %sql $query1\n",
    "res1.DataFrame()\n",
    "\n",
    "### RÉSULTATS ATTENDUS ###\n",
    "#    nom_serie        num_saison  annee\n",
    "# 0  Stranger Things  1           2016\n",
    "# 1  Stranger Things  2           2017\n",
    "# 2  Stranger Things  3           2019"
   ]
  },
  {
   "cell_type": "markdown",
   "id": "d5c8658e-72fa-4ce9-8e20-fe91d6a34f30",
   "metadata": {},
   "source": [
    "### Exo2 : Le nom des genres associés à la série qui a l'ID 1"
   ]
  },
  {
   "cell_type": "code",
   "execution_count": null,
   "id": "0ff4f653",
   "metadata": {},
   "outputs": [],
   "source": [
    "# Définition de la requête SQL (à compléter)\n",
    "query2 = '''\n",
    "    SELECT * ...\n",
    "'''\n",
    "\n",
    "# Exécution de la requête et affichage sous la forme d'un DataFrame\n",
    "res2 = %sql $query2\n",
    "res2.DataFrame()\n",
    "\n",
    "### RÉSULTATS ATTENDUS ###\n",
    "#    nom_genre\n",
    "# 0  Science-Fiction\n",
    "# 1  Fantastique"
   ]
  },
  {
   "cell_type": "markdown",
   "id": "c794e0ff-c74c-41a3-bd21-52f146128f76",
   "metadata": {},
   "source": [
    "### Exo3 : Le nom des épisodes dont le nom commence par \"Retour\"\n",
    "Les résultats doivent être **triés par ordre alphabétique**."
   ]
  },
  {
   "cell_type": "code",
   "execution_count": null,
   "id": "5da1ea8a",
   "metadata": {},
   "outputs": [],
   "source": [
    "# Définition de la requête SQL (à compléter)\n",
    "query3 = '''\n",
    "    SELECT * ...\n",
    "'''\n",
    "\n",
    "# Exécution de la requête et affichage sous la forme d'un DataFrame\n",
    "res3 = %sql $query3\n",
    "res3.DataFrame()\n",
    "\n",
    "### RÉSULTATS ATTENDUS ###\n",
    "#    nom_ep\n",
    "# 0  Retour aux sources\n",
    "# 1  Retour sur image"
   ]
  },
  {
   "cell_type": "markdown",
   "id": "c4436ffb-301c-48d6-bbf6-fcc1e457a2d2",
   "metadata": {},
   "source": [
    "### Exo4 : Le nom des genres associés soit à la série Black Mirror, soit à la série Stranger Things, soit aux deux\n",
    "Les résultats ne doivent **pas comporter de doublons**, et doivent être **triés par ordre alphabétique inversé**."
   ]
  },
  {
   "cell_type": "code",
   "execution_count": null,
   "id": "2ba5c250",
   "metadata": {},
   "outputs": [],
   "source": [
    "# Définition de la requête SQL (à compléter)\n",
    "query4 = '''\n",
    "    SELECT * ...\n",
    "'''\n",
    "\n",
    "# Exécution de la requête et affichage sous la forme d'un DataFrame\n",
    "res4 = %sql $query4\n",
    "res4.DataFrame()\n",
    "\n",
    "### RÉSULTATS ATTENDUS ###\n",
    "#    nom_genre\n",
    "# 0  Thriller\n",
    "# 1  Science-Fiction\n",
    "# 2  Fantastique"
   ]
  },
  {
   "cell_type": "markdown",
   "id": "29e81175-933e-4f80-bb2b-b6c4f386766b",
   "metadata": {},
   "source": [
    "### Exo5 : Le nom et la durée de l'épisode de Black Mirror qui dure le plus longtemps\n",
    "<i><u>INDICE :</u> Pensez à utiliser un **ORDER BY** associé à un **LIMIT** pour faire cela (pas besoin de **MAX(...)**)</i>"
   ]
  },
  {
   "cell_type": "code",
   "execution_count": null,
   "id": "a08490f1",
   "metadata": {},
   "outputs": [],
   "source": [
    "# Définition de la requête SQL (à compléter)\n",
    "query5 = '''\n",
    "    SELECT * ...\n",
    "'''\n",
    "\n",
    "# Exécution de la requête et affichage sous la forme d'un DataFrame\n",
    "res5 = %sql $query5\n",
    "res5.DataFrame()\n",
    "\n",
    "### RÉSULTATS ATTENDUS ###\n",
    "#    nom_ep           duree_maxi\n",
    "# 0  Haine virtuelle  89"
   ]
  },
  {
   "cell_type": "markdown",
   "id": "1056860f-f7d0-4539-b50b-cd94a730a5b6",
   "metadata": {},
   "source": [
    "### Exo6 : Le nom et le nombre d'épisodes des séries qui ont au moins 25 épisodes différents\n",
    "Les résultats doivent être **triés du plus grand au plus petit nombre d'épisodes**.<br>\n",
    "<i><u>INDICE :</u> Pensez à utiliser un **COUNT(*)**, un **GROUP BY** associé à un **HAVING** pour faire cela."
   ]
  },
  {
   "cell_type": "code",
   "execution_count": null,
   "id": "b87c53e5",
   "metadata": {},
   "outputs": [],
   "source": [
    "# Définition de la requête SQL (à compléter)\n",
    "query6 = '''\n",
    "    SELECT * ...\n",
    "'''\n",
    "\n",
    "# Exécution de la requête et affichage sous la forme d'un DataFrame\n",
    "res6 = %sql $query6\n",
    "res6.DataFrame()\n",
    "\n",
    "### RÉSULTATS ATTENDUS ###\n",
    "#    nom_serie        nb_episodes\n",
    "# 0  Hero Corp        30\n",
    "# 1  Stranger Things  25"
   ]
  },
  {
   "cell_type": "markdown",
   "id": "652fed58-c802-4a6f-9506-60d4aea4d141",
   "metadata": {},
   "source": [
    "### Exo7 : Le temps total nécessaire pour voir tous les épisodes de la série Black Mirror\n",
    "Afficher le résultat **en minutes** (pas besoin de le convertir)."
   ]
  },
  {
   "cell_type": "code",
   "execution_count": null,
   "id": "828eb8d8",
   "metadata": {},
   "outputs": [],
   "source": [
    "# Définition de la requête SQL (à compléter)\n",
    "query7 = '''\n",
    "    SELECT * ...\n",
    "'''\n",
    "\n",
    "# Exécution de la requête et affichage sous la forme d'un DataFrame\n",
    "res7 = %sql $query7\n",
    "res7.DataFrame()\n",
    "\n",
    "### RÉSULTATS ATTENDUS ###\n",
    "#     somme_durees\n",
    "# 0   1090.0"
   ]
  },
  {
   "cell_type": "markdown",
   "id": "7292f576-ff44-4fef-a3ef-d84d62fcfb6a",
   "metadata": {},
   "source": [
    "### Exo8 : Pour chaque saison de Stranger Things, La moyenne de durée des épisodes\n",
    "Les moyennes doivent être **arrondies au 1er chiffre après la virgule** grâce à la fonction **ROUND(...)** : https://sql.sh/fonctions/round"
   ]
  },
  {
   "cell_type": "code",
   "execution_count": null,
   "id": "df0eefb5",
   "metadata": {},
   "outputs": [],
   "source": [
    "# Définition de la requête SQL (à compléter)\n",
    "query8 = '''\n",
    "    SELECT * ...\n",
    "'''\n",
    "\n",
    "# Exécution de la requête et affichage sous la forme d'un DataFrame\n",
    "res8 = %sql $query8\n",
    "res8.DataFrame()\n",
    "\n",
    "### RÉSULTATS ATTENDUS ###\n",
    "#    num_saison  moy_duree\n",
    "# 0  1           49.4\n",
    "# 1  2           51.6\n",
    "# 2  3           56.1"
   ]
  },
  {
   "cell_type": "markdown",
   "id": "f77ec1f5-c249-4222-b479-73a1b1be784c",
   "metadata": {},
   "source": [
    "### Exo9 : Le nom de la série qui appartient à la fois au genre Fantastique et au genre Thriller"
   ]
  },
  {
   "cell_type": "code",
   "execution_count": null,
   "id": "34c25586",
   "metadata": {},
   "outputs": [],
   "source": [
    "# Définition de la requête SQL (à compléter)\n",
    "query9 = '''\n",
    "    SELECT * ...\n",
    "'''\n",
    "\n",
    "# Exécution de la requête et affichage sous la forme d'un DataFrame\n",
    "res9 = %sql $query9\n",
    "res9.DataFrame()\n",
    "\n",
    "### RÉSULTATS ATTENDUS ###\n",
    "#    nom_serie\n",
    "# 0  Stranger Things"
   ]
  },
  {
   "cell_type": "markdown",
   "id": "73ecaed6-5605-4be3-a5a2-f786aa0a0979",
   "metadata": {},
   "source": [
    "### Exo10 : Le nom des séries qui n'ont aucun épisode qui dépasse 35 minutes\n",
    "<i><u>INDICE :</u> Cela revient à la même chose que de demander : Le nom des séries dont l'épisode le plus long ne dépasse pas 35 minutes</i>"
   ]
  },
  {
   "cell_type": "code",
   "execution_count": null,
   "id": "04e64004",
   "metadata": {},
   "outputs": [],
   "source": [
    "# Définition de la requête SQL (à compléter)\n",
    "query10 = '''\n",
    "    SELECT * ...\n",
    "'''\n",
    "\n",
    "# Exécution de la requête et affichage sous la forme d'un DataFrame\n",
    "res10 = %sql $query10\n",
    "res10.DataFrame()\n",
    "\n",
    "### RÉSULTATS ATTENDUS ###\n",
    "#    nom_serie\n",
    "# 0  Hero Corp\n",
    "# 1  The IT Crowd"
   ]
  },
  {
   "cell_type": "markdown",
   "id": "63061a64-08db-4b16-b62f-6b5be83af96d",
   "metadata": {},
   "source": [
    "---------"
   ]
  },
  {
   "cell_type": "markdown",
   "id": "a1ed4a21-c6a0-4287-8cbb-9275d50f2f04",
   "metadata": {},
   "source": [
    "### FIN"
   ]
  }
 ],
 "metadata": {
  "kernelspec": {
   "display_name": "Python 3",
   "language": "python",
   "name": "python3"
  },
  "language_info": {
   "codemirror_mode": {
    "name": "ipython",
    "version": 3
   },
   "file_extension": ".py",
   "mimetype": "text/x-python",
   "name": "python",
   "nbconvert_exporter": "python",
   "pygments_lexer": "ipython3",
   "version": "3.9.6"
  },
  "papermill": {
   "default_parameters": {},
   "environment_variables": {},
   "parameters": {},
   "version": "2.3.3"
  }
 },
 "nbformat": 4,
 "nbformat_minor": 5
}
